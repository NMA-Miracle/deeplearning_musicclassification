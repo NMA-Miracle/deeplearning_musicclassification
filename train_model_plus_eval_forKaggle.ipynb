{
  "cells": [
    {
      "cell_type": "markdown",
      "metadata": {
        "id": "view-in-github",
        "colab_type": "text"
      },
      "source": [
        "<a href=\"https://colab.research.google.com/github/NMA-Miracle/deeplearning_musicclassification/blob/main/train_model_plus_eval_forKaggle.ipynb\" target=\"_parent\"><img src=\"https://colab.research.google.com/assets/colab-badge.svg\" alt=\"Open In Colab\"/></a>"
      ]
    },
    {
      "cell_type": "markdown",
      "metadata": {
        "execution": {},
        "id": "r20hiIsHrv-G"
      },
      "source": [
        "# Music classification and generation with spectrograms\n",
        "\n",
        "**By Neuromatch Academy**\n",
        "\n",
        "__Content creators:__ Beatrix Benko, Lina Teichmann"
      ]
    },
    {
      "cell_type": "markdown",
      "metadata": {
        "execution": {},
        "id": "Ghm1piZLrv-I"
      },
      "source": [
        "<p align='center'><img src='https://github.com/NeuromatchAcademy/widgets/blob/master/sponsors.png?raw=True'/></p>"
      ]
    },
    {
      "cell_type": "markdown",
      "metadata": {
        "execution": {},
        "id": "ZusBgaLUrv-J"
      },
      "source": [
        "## This notebook\n",
        "This notebook loads the GTZAN dataset which includes audiofiles and spectrograms. You can use this dataset or find your own. The first part of the notebook is all about data visualization and show how to make spectrograms from audiofiles. The second part of the notebook includes a CNN that is trained on the spectrograms to predict music genre. Below we also provide links to tutorials and other resources if you want to try to do some of the harder project ideas. \n",
        "\n",
        "Have fun :) \n"
      ]
    },
    {
      "cell_type": "markdown",
      "metadata": {
        "execution": {},
        "id": "Iu6LCcSKrv-K"
      },
      "source": [
        "## Acknowledgements\n",
        "This notebook was written by Beatrix Benkő and Lina Teichmann.\n",
        "\n",
        "**Useful code examples:** \n",
        "\n",
        "https://towardsdatascience.com/music-genre-classification-with-python-c714d032f0d8\n",
        "\n",
        "[https://pytorch.org/vision/stable/models.html](https://pytorch.org/vision/stable/models.html)\n",
        "\n",
        "[https://github.com/rwightman/pytorch-image-models/blob/master/timm/models/vision_transformer.py](https://github.com/rwightman/pytorch-image-models/blob/master/timm/models/vision_transformer.py)\n",
        "\n",
        "https://github.com/kamalesh0406/Audio-Classification \n",
        "\n",
        "https://github.com/zcaceres/spec_augment\n",
        "\n",
        "https://musicinformationretrieval.com/ipython_audio.html "
      ]
    },
    {
      "cell_type": "markdown",
      "metadata": {
        "execution": {},
        "id": "3C9ea4NTrv-M"
      },
      "source": [
        "---\n",
        "# Setup"
      ]
    },
    {
      "cell_type": "code",
      "source": [
        "from google.colab import drive\n",
        "drive.mount('/content/drive')"
      ],
      "metadata": {
        "colab": {
          "base_uri": "https://localhost:8080/"
        },
        "id": "b29WnN1u-Uy5",
        "outputId": "b1bf6c06-a2c2-4c6d-8bbb-b229d231afc8"
      },
      "execution_count": null,
      "outputs": [
        {
          "output_type": "stream",
          "name": "stdout",
          "text": [
            "Mounted at /content/drive\n"
          ]
        }
      ]
    },
    {
      "cell_type": "code",
      "source": [
        "data_drive_path = '/content/drive/MyDrive/NMA/music.zip'\n",
        "%cd '/content/drive/MyDrive/NMA'"
      ],
      "metadata": {
        "colab": {
          "base_uri": "https://localhost:8080/"
        },
        "id": "FAV-Ty6E-5jP",
        "outputId": "3a6f0f73-1041-4f48-b59f-96582c890b1c"
      },
      "execution_count": null,
      "outputs": [
        {
          "output_type": "stream",
          "name": "stdout",
          "text": [
            "/content/drive/MyDrive/NMA\n"
          ]
        }
      ]
    },
    {
      "cell_type": "code",
      "execution_count": null,
      "metadata": {
        "execution": {},
        "id": "QFvunVdGrv-O",
        "outputId": "9d76ca09-6fd5-4464-e28b-b3585cd9dc9d",
        "colab": {
          "base_uri": "https://localhost:8080/"
        }
      },
      "outputs": [
        {
          "output_type": "stream",
          "name": "stdout",
          "text": [
            "Reading package lists...\n",
            "Building dependency tree...\n",
            "Reading state information...\n",
            "ffmpeg is already the newest version (7:3.4.11-0ubuntu0.1).\n",
            "The following package was automatically installed and is no longer required:\n",
            "  libnvidia-common-460\n",
            "Use 'sudo apt autoremove' to remove it.\n",
            "0 upgraded, 0 newly installed, 0 to remove and 49 not upgraded.\n",
            "\u001b[K     |████████████████████████████████| 26.9 MB 7.8 MB/s \n",
            "\u001b[?25hLooking in indexes: https://pypi.org/simple, https://us-python.pkg.dev/colab-wheels/public/simple/\n",
            "Obtaining file:///content/drive/MyDrive/NMA\n",
            "Installing collected packages: src\n",
            "  Running setup.py develop for src\n",
            "Successfully installed src-0.0.0\n",
            "Looking in indexes: https://pypi.org/simple, https://us-python.pkg.dev/colab-wheels/public/simple/\n",
            "Collecting torchaudio-augmentations\n",
            "  Downloading torchaudio_augmentations-0.2.4-py3-none-any.whl (12 kB)\n",
            "Requirement already satisfied: torch in /usr/local/lib/python3.7/dist-packages (from torchaudio-augmentations) (1.12.0+cu113)\n",
            "Collecting wavaugment\n",
            "  Downloading wavaugment-0.2-py3-none-any.whl (5.4 kB)\n",
            "Collecting torch-pitch-shift\n",
            "  Downloading torch_pitch_shift-1.2.2-py3-none-any.whl (5.0 kB)\n",
            "Collecting julius\n",
            "  Downloading julius-0.2.6.tar.gz (58 kB)\n",
            "\u001b[K     |████████████████████████████████| 58 kB 6.8 MB/s \n",
            "\u001b[?25hRequirement already satisfied: numpy in /usr/local/lib/python3.7/dist-packages (from torchaudio-augmentations) (1.21.6)\n",
            "Requirement already satisfied: torchaudio in /usr/local/lib/python3.7/dist-packages (from torchaudio-augmentations) (0.12.0+cu113)\n",
            "Requirement already satisfied: typing-extensions in /usr/local/lib/python3.7/dist-packages (from torch->torchaudio-augmentations) (4.1.1)\n",
            "Requirement already satisfied: packaging>=21.3 in /usr/local/lib/python3.7/dist-packages (from torch-pitch-shift->torchaudio-augmentations) (21.3)\n",
            "Collecting primePy>=1.3\n",
            "  Downloading primePy-1.3-py3-none-any.whl (4.0 kB)\n",
            "Requirement already satisfied: pyparsing!=3.0.5,>=2.0.2 in /usr/local/lib/python3.7/dist-packages (from packaging>=21.3->torch-pitch-shift->torchaudio-augmentations) (3.0.9)\n",
            "Building wheels for collected packages: julius\n",
            "  Building wheel for julius (setup.py) ... \u001b[?25l\u001b[?25hdone\n",
            "  Created wheel for julius: filename=julius-0.2.6-py3-none-any.whl size=20965 sha256=a8e431d38f670e6de41549348dd254e5c76a5987f67c386e57ee852d5cd17c3e\n",
            "  Stored in directory: /root/.cache/pip/wheels/ad/6f/00/57039014814f8794b1f32aad93d1d387645d103afdda943caf\n",
            "Successfully built julius\n",
            "Installing collected packages: primePy, wavaugment, torch-pitch-shift, julius, torchaudio-augmentations\n",
            "Successfully installed julius-0.2.6 primePy-1.3 torch-pitch-shift-1.2.2 torchaudio-augmentations-0.2.4 wavaugment-0.2\n",
            "Looking in indexes: https://pypi.org/simple, https://us-python.pkg.dev/colab-wheels/public/simple/\n",
            "Collecting torch_audiomentations\n",
            "  Downloading torch_audiomentations-0.11.0-py3-none-any.whl (47 kB)\n",
            "\u001b[K     |████████████████████████████████| 47 kB 4.7 MB/s \n",
            "\u001b[?25hRequirement already satisfied: julius<0.3,>=0.2.3 in /usr/local/lib/python3.7/dist-packages (from torch_audiomentations) (0.2.6)\n",
            "Requirement already satisfied: torchaudio>=0.7.0 in /usr/local/lib/python3.7/dist-packages (from torch_audiomentations) (0.12.0+cu113)\n",
            "Requirement already satisfied: librosa>=0.6.0 in /usr/local/lib/python3.7/dist-packages (from torch_audiomentations) (0.8.1)\n",
            "Requirement already satisfied: torch>=1.7.0 in /usr/local/lib/python3.7/dist-packages (from torch_audiomentations) (1.12.0+cu113)\n",
            "Requirement already satisfied: torch-pitch-shift>=1.2.2 in /usr/local/lib/python3.7/dist-packages (from torch_audiomentations) (1.2.2)\n",
            "Requirement already satisfied: joblib>=0.14 in /usr/local/lib/python3.7/dist-packages (from librosa>=0.6.0->torch_audiomentations) (1.1.0)\n",
            "Requirement already satisfied: numpy>=1.15.0 in /usr/local/lib/python3.7/dist-packages (from librosa>=0.6.0->torch_audiomentations) (1.21.6)\n",
            "Requirement already satisfied: scipy>=1.0.0 in /usr/local/lib/python3.7/dist-packages (from librosa>=0.6.0->torch_audiomentations) (1.7.3)\n",
            "Requirement already satisfied: pooch>=1.0 in /usr/local/lib/python3.7/dist-packages (from librosa>=0.6.0->torch_audiomentations) (1.6.0)\n",
            "Requirement already satisfied: soundfile>=0.10.2 in /usr/local/lib/python3.7/dist-packages (from librosa>=0.6.0->torch_audiomentations) (0.10.3.post1)\n",
            "Requirement already satisfied: scikit-learn!=0.19.0,>=0.14.0 in /usr/local/lib/python3.7/dist-packages (from librosa>=0.6.0->torch_audiomentations) (1.0.2)\n",
            "Requirement already satisfied: packaging>=20.0 in /usr/local/lib/python3.7/dist-packages (from librosa>=0.6.0->torch_audiomentations) (21.3)\n",
            "Requirement already satisfied: audioread>=2.0.0 in /usr/local/lib/python3.7/dist-packages (from librosa>=0.6.0->torch_audiomentations) (2.1.9)\n",
            "Requirement already satisfied: decorator>=3.0.0 in /usr/local/lib/python3.7/dist-packages (from librosa>=0.6.0->torch_audiomentations) (4.4.2)\n",
            "Requirement already satisfied: numba>=0.43.0 in /usr/local/lib/python3.7/dist-packages (from librosa>=0.6.0->torch_audiomentations) (0.51.2)\n",
            "Requirement already satisfied: resampy>=0.2.2 in /usr/local/lib/python3.7/dist-packages (from librosa>=0.6.0->torch_audiomentations) (0.3.1)\n",
            "Requirement already satisfied: llvmlite<0.35,>=0.34.0.dev0 in /usr/local/lib/python3.7/dist-packages (from numba>=0.43.0->librosa>=0.6.0->torch_audiomentations) (0.34.0)\n",
            "Requirement already satisfied: setuptools in /usr/local/lib/python3.7/dist-packages (from numba>=0.43.0->librosa>=0.6.0->torch_audiomentations) (57.4.0)\n",
            "Requirement already satisfied: pyparsing!=3.0.5,>=2.0.2 in /usr/local/lib/python3.7/dist-packages (from packaging>=20.0->librosa>=0.6.0->torch_audiomentations) (3.0.9)\n",
            "Requirement already satisfied: requests>=2.19.0 in /usr/local/lib/python3.7/dist-packages (from pooch>=1.0->librosa>=0.6.0->torch_audiomentations) (2.23.0)\n",
            "Requirement already satisfied: appdirs>=1.3.0 in /usr/local/lib/python3.7/dist-packages (from pooch>=1.0->librosa>=0.6.0->torch_audiomentations) (1.4.4)\n",
            "Requirement already satisfied: idna<3,>=2.5 in /usr/local/lib/python3.7/dist-packages (from requests>=2.19.0->pooch>=1.0->librosa>=0.6.0->torch_audiomentations) (2.10)\n",
            "Requirement already satisfied: certifi>=2017.4.17 in /usr/local/lib/python3.7/dist-packages (from requests>=2.19.0->pooch>=1.0->librosa>=0.6.0->torch_audiomentations) (2022.6.15)\n",
            "Requirement already satisfied: urllib3!=1.25.0,!=1.25.1,<1.26,>=1.21.1 in /usr/local/lib/python3.7/dist-packages (from requests>=2.19.0->pooch>=1.0->librosa>=0.6.0->torch_audiomentations) (1.24.3)\n",
            "Requirement already satisfied: chardet<4,>=3.0.2 in /usr/local/lib/python3.7/dist-packages (from requests>=2.19.0->pooch>=1.0->librosa>=0.6.0->torch_audiomentations) (3.0.4)\n",
            "Requirement already satisfied: threadpoolctl>=2.0.0 in /usr/local/lib/python3.7/dist-packages (from scikit-learn!=0.19.0,>=0.14.0->librosa>=0.6.0->torch_audiomentations) (3.1.0)\n",
            "Requirement already satisfied: cffi>=1.0 in /usr/local/lib/python3.7/dist-packages (from soundfile>=0.10.2->librosa>=0.6.0->torch_audiomentations) (1.15.1)\n",
            "Requirement already satisfied: pycparser in /usr/local/lib/python3.7/dist-packages (from cffi>=1.0->soundfile>=0.10.2->librosa>=0.6.0->torch_audiomentations) (2.21)\n",
            "Requirement already satisfied: typing-extensions in /usr/local/lib/python3.7/dist-packages (from torch>=1.7.0->torch_audiomentations) (4.1.1)\n",
            "Requirement already satisfied: primePy>=1.3 in /usr/local/lib/python3.7/dist-packages (from torch-pitch-shift>=1.2.2->torch_audiomentations) (1.3)\n",
            "Installing collected packages: torch-audiomentations\n",
            "Successfully installed torch-audiomentations-0.11.0\n"
          ]
        }
      ],
      "source": [
        "# @title Install dependencies\n",
        "!sudo apt-get install -y ffmpeg --quiet\n",
        "!pip install librosa --quiet\n",
        "!pip install imageio --quiet\n",
        "!pip install imageio-ffmpeg --quiet\n",
        "# !pip install Ipython --upgrade\n",
        "!pip install -e .\n",
        "!pip install torchaudio-augmentations\n",
        "!pip install torch_audiomentations"
      ]
    },
    {
      "cell_type": "code",
      "execution_count": null,
      "metadata": {
        "execution": {},
        "id": "C8YeKnowrv-P",
        "colab": {
          "base_uri": "https://localhost:8080/"
        },
        "outputId": "0f03591f-c3c1-40e6-ee1a-dbcb524d39e7"
      },
      "outputs": [
        {
          "output_type": "stream",
          "name": "stderr",
          "text": [
            "/usr/local/lib/python3.7/dist-packages/resampy/interpn.py:114: NumbaWarning: The TBB threading layer requires TBB version 2019.5 or later i.e., TBB_INTERFACE_VERSION >= 11005. Found TBB_INTERFACE_VERSION = 9107. The TBB threading layer is disabled.\n",
            "  _resample_loop_p(x, t_out, interp_win, interp_delta, num_table, scale, y)\n"
          ]
        }
      ],
      "source": [
        "# Import necessary libraries.\n",
        "# %load_ext autoreload # live update of our functions\n",
        "# %autoreload 2\n",
        "\n",
        "#@title Imports\n",
        "from pathlib import Path\n",
        "import numpy as np\n",
        "import random\n",
        "from torch.utils.data import Dataset, DataLoader\n",
        "import soundfile as sp\n",
        "\n",
        "import os\n",
        "import glob\n",
        "import imageio\n",
        "import random, shutil\n",
        "import torch\n",
        "import torchaudio\n",
        "import torch.nn as nn\n",
        "from tqdm.notebook import tqdm\n",
        "import torch.nn.functional as F\n",
        "import torchvision.datasets as datasets\n",
        "import torchvision.transforms as transforms\n",
        "import numpy as np\n",
        "import matplotlib.pyplot as plt\n",
        "import IPython.display as display\n",
        "import librosa\n",
        "import librosa.display\n",
        "import requests\n",
        "\n",
        "\n",
        "from src.z_transform import ZTransformer\n",
        "from src.conv_net import ConvolutionalMusicNet, train\n",
        "\n",
        "import torch\n",
        "import torchaudio\n",
        "import torchaudio.functional as Func\n",
        "import torchaudio.transforms as T\n",
        "\n",
        "import numpy as np\n",
        "import soundfile as sf\n",
        "import torch\n",
        "from torch.utils import data\n",
        "import random, shutil\n",
        "import torchaudio.transforms as T\n",
        "from torchaudio_augmentations import (\n",
        "    Compose,\n",
        "    Delay,\n",
        "    Gain,\n",
        "    HighLowPass,\n",
        "    Noise,\n",
        "    PitchShift,\n",
        "    PolarityInversion,\n",
        "    RandomApply,\n",
        "    RandomResizedCrop,\n",
        "    Reverb,\n",
        ")\n",
        "np.random.seed(42)"
      ]
    },
    {
      "cell_type": "code",
      "execution_count": null,
      "metadata": {
        "execution": {},
        "id": "DZ367bE9rv-b",
        "colab": {
          "base_uri": "https://localhost:8080/"
        },
        "outputId": "418d3302-caf2-4f3d-edd4-6e2f257d2ab9"
      },
      "outputs": [
        {
          "output_type": "stream",
          "name": "stdout",
          "text": [
            "GPU is enabled in this notebook.\n"
          ]
        }
      ],
      "source": [
        "# @title Helper functions (run me)\n",
        "\n",
        "def set_device():\n",
        "  device = \"cuda\" if torch.cuda.is_available() else \"cpu\"\n",
        "  if device != \"cuda\":\n",
        "      print(\"WARNING: For this notebook to perform best, \"\n",
        "          \"if possible, in the menu under `Runtime` -> \"\n",
        "          \"`Change runtime type.`  select `GPU` \")\n",
        "  else:\n",
        "      print(\"GPU is enabled in this notebook.\")\n",
        "\n",
        "  return device\n",
        "\n",
        "\n",
        "#  Plotting function.\n",
        "\n",
        "def plot_loss_accuracy(train_loss, train_acc, validation_loss, validation_acc):\n",
        "  epochs = len(train_loss)\n",
        "  fig, (ax1, ax2) = plt.subplots(1, 2)\n",
        "  ax1.plot(list(range(epochs)), train_loss, label='Training Loss')\n",
        "  ax1.plot(list(range(epochs)), validation_loss, label='Validation Loss')\n",
        "  ax1.set_xlabel('Epochs')\n",
        "  ax1.set_ylabel('Loss')\n",
        "  ax1.set_title('Epoch vs Loss')\n",
        "  ax1.legend()\n",
        "\n",
        "  ax2.plot(list(range(epochs)), train_acc, label='Training Accuracy')\n",
        "  ax2.plot(list(range(epochs)), validation_acc, label='Validation Accuracy')\n",
        "  ax2.set_xlabel('Epochs')\n",
        "  ax2.set_ylabel('Accuracy')\n",
        "  ax2.set_title('Epoch vs Accuracy')\n",
        "  ax2.legend()\n",
        "  fig.set_size_inches(15.5, 5.5)\n",
        "  plt.show()\n",
        "\n",
        "device = set_device()"
      ]
    },
    {
      "cell_type": "code",
      "source": [
        "#@title Custom class to split and save the dataset\n",
        "class Utils:\n",
        "  def __init__(self, data_dir):\n",
        "    self.data_dir =  data_dir\n",
        "    self.folder_names = [f'{data_dir}/train/', f'{data_dir}/test/', f'{data_dir}/val/']\n",
        "\n",
        "  def split_dataset(self)->None:\n",
        "    audio_dir = f\"{self.data_dir}/genres_original/\"\n",
        "    train_dir = self.folder_names[0]\n",
        "    test_dir = self.folder_names[1]\n",
        "    val_dir = self.folder_names[2]\n",
        "\n",
        "    for f in self.folder_names:\n",
        "      if os.path.exists(f):\n",
        "        shutil.rmtree(f)\n",
        "        os.mkdir(f)\n",
        "      else:\n",
        "        os.mkdir(f)\n",
        "\n",
        "    # Loop over all genres.\n",
        "\n",
        "    genres = list(os.listdir(audio_dir))\n",
        "    for g in genres:\n",
        "      # find all audios & split in train, test, and validation\n",
        "      src_file_paths= []\n",
        "      for im in glob.glob(os.path.join(audio_dir, f'{g}',\"*.wav\"), recursive=True):\n",
        "        src_file_paths.append(im)\n",
        "      random.shuffle(src_file_paths)\n",
        "      test_files = src_file_paths[0:10]\n",
        "      val_files = src_file_paths[10:20]\n",
        "      train_files = src_file_paths[20:]\n",
        "\n",
        "      #  make destination folders for train and test images\n",
        "      for f in self.folder_names:\n",
        "        if not os.path.exists(os.path.join(f + f\"{g}\")):\n",
        "          os.mkdir(os.path.join(f + f\"{g}\"))\n",
        "\n",
        "      # copy training and testing images over\n",
        "      for f in train_files:\n",
        "        shutil.copy(f, os.path.join(os.path.join(train_dir + f\"{g}\") + '/',os.path.split(f)[1]))\n",
        "      for f in test_files:\n",
        "        shutil.copy(f, os.path.join(os.path.join(test_dir + f\"{g}\") + '/',os.path.split(f)[1]))\n",
        "      for f in val_files:\n",
        "        shutil.copy(f, os.path.join(os.path.join(val_dir + f\"{g}\") + '/',os.path.split(f)[1]))\n",
        "  \n",
        "  \n",
        "  def create_dataset(self,files_dir: str,out_file:str, dur=3)->None:\n",
        "    \"\"\"\n",
        "      @param: files_dir -- str, takes the directory path to the subfolders containing our music genres\n",
        "      @param: out_file -- str, takes the file path where the created n seconds audio and labels will be stored\n",
        "      @param: dur -- int, takes the select split duration \n",
        "\n",
        "      @return: None\n",
        "    \n",
        "    \"\"\"\n",
        "    CLASSES =  os.listdir(files_dir)\n",
        "    dur = dur\n",
        "    X = [] # n seconds samples audio list\n",
        "    labels = [] # label indices\n",
        "    for dir in os.listdir(files_dir):\n",
        "      sub_dir = Path(files_dir, dir)\n",
        "      for file in sub_dir.glob(\"*.wav\"):\n",
        "        if(file.name != 'jazz.00054.wav'):\n",
        "          y,sr = librosa.load(file, sr=None)\n",
        "          stepsize = int(sr * dur)\n",
        "          for idx in range(0, len(y),  stepsize):\n",
        "            x = y[idx :  idx + stepsize ]\n",
        "            if(len(x) >=  stepsize):\n",
        "              X.append(x)\n",
        "              labels.append(CLASSES.index(dir))\n",
        "    X =  np.array(X)\n",
        "    labels = np.array(labels)\n",
        "    np.savez(file=out_file,X =  X, y = labels,  C = CLASSES)\n",
        "    print(f\"A dataset of musics with {X.shape[0]} samples created successfully\")\n",
        "  \n",
        "  def load(self, filename):\n",
        "    if( filename.is_file()):\n",
        "      data =  np.load(train_file, allow_pickle=True)\n",
        "      X =  data['X'] #n seconds audio samples\n",
        "      y =  data['y'] #int label indices \n",
        "      CLASSES  = data['C'] # List of CLASSES\n",
        "      return X,y,CLASSES\n",
        "    else:\n",
        "      return None,None,None"
      ],
      "metadata": {
        "id": "Bb6jQFyNzkpD"
      },
      "execution_count": null,
      "outputs": []
    },
    {
      "cell_type": "code",
      "source": [
        "#We are going to test our class\n",
        "data_dir = './Data'\n",
        "utils =  Utils(data_dir)\n",
        "\n",
        "utils.folder_names\n",
        "\n",
        "train_dir = Path('/content/drive/MyDrive/NMA/Data/train')\n",
        "test_dir = Path('/content/drive/MyDrive/NMA/Data/test')\n",
        "val_dir = Path('/content/drive/MyDrive/NMA/Data/val')\n",
        "\n",
        "train_file = Path('/content/drive/MyDrive/NMA/Data/train.npz')\n",
        "test_file = Path('/content/drive/MyDrive/NMA/Data/test.npz')\n",
        "val_file = Path('/content/drive/MyDrive/NMA/Data/val.npz')\n",
        "\n",
        "# utils.create_dataset(train_dir, out_file=train_file,dur=3)\n",
        "# utils.create_dataset(test_dir, out_file=test_file,dur=3)\n",
        "# utils.create_dataset(val_dir, out_file=val_file,dur=3)"
      ],
      "metadata": {
        "id": "2xSPjGNG0YLa"
      },
      "execution_count": null,
      "outputs": []
    },
    {
      "cell_type": "code",
      "source": [
        "ConvolutionalMusicNet()"
      ],
      "metadata": {
        "colab": {
          "base_uri": "https://localhost:8080/"
        },
        "id": "lD97RqUHcY5T",
        "outputId": "c47f85cd-05b6-4f5d-cf09-1032e325bc94"
      },
      "execution_count": null,
      "outputs": [
        {
          "output_type": "execute_result",
          "data": {
            "text/plain": [
              "ConvolutionalMusicNet(\n",
              "  (conv1): Conv2d(3, 8, kernel_size=(3, 3), stride=(1, 1))\n",
              "  (conv2): Conv2d(8, 16, kernel_size=(3, 3), stride=(1, 1))\n",
              "  (conv3): Conv2d(16, 32, kernel_size=(3, 3), stride=(1, 1))\n",
              "  (conv4): Conv2d(32, 64, kernel_size=(3, 3), stride=(1, 1))\n",
              "  (conv5): Conv2d(64, 128, kernel_size=(3, 3), stride=(1, 1))\n",
              "  (fc1): Linear(in_features=9856, out_features=10, bias=True)\n",
              "  (batchnorm1): BatchNorm2d(8, eps=1e-05, momentum=0.1, affine=True, track_running_stats=True)\n",
              "  (batchnorm2): BatchNorm2d(16, eps=1e-05, momentum=0.1, affine=True, track_running_stats=True)\n",
              "  (batchnorm3): BatchNorm2d(32, eps=1e-05, momentum=0.1, affine=True, track_running_stats=True)\n",
              "  (batchnorm4): BatchNorm2d(64, eps=1e-05, momentum=0.1, affine=True, track_running_stats=True)\n",
              "  (batchnorm5): BatchNorm2d(128, eps=1e-05, momentum=0.1, affine=True, track_running_stats=True)\n",
              "  (dropout): Dropout(p=0.3, inplace=False)\n",
              ")"
            ]
          },
          "metadata": {},
          "execution_count": 8
        }
      ]
    },
    {
      "cell_type": "code",
      "source": [
        "spectrograms_dir = \"Data/images_original/\"\n",
        "folder_names = ['Data/train/', 'Data/test/', 'Data/val/']\n",
        "train_dir = folder_names[0]\n",
        "test_dir = folder_names[1]\n",
        "val_dir = folder_names[2]\n"
      ],
      "metadata": {
        "id": "B08N4vQHXueL"
      },
      "execution_count": null,
      "outputs": []
    },
    {
      "cell_type": "code",
      "source": [
        "test_data = np.load(\"Data/test.npz\")\n",
        "for key in test_data.keys():\n",
        "  print(key)\n",
        "testX = test_data[\"X\"]"
      ],
      "metadata": {
        "colab": {
          "base_uri": "https://localhost:8080/"
        },
        "id": "Jvv1kO3zrLfh",
        "outputId": "27208b33-18da-4335-b9fe-22e15f1608e6"
      },
      "execution_count": null,
      "outputs": [
        {
          "output_type": "stream",
          "name": "stdout",
          "text": [
            "X\n",
            "y\n",
            "C\n"
          ]
        }
      ]
    },
    {
      "cell_type": "code",
      "source": [
        "testX=torch.from_numpy(testX)"
      ],
      "metadata": {
        "id": "e8YY9FtcvLw3"
      },
      "execution_count": null,
      "outputs": []
    },
    {
      "cell_type": "code",
      "source": [
        "spec_transform = torchaudio.transforms.Spectrogram()\n",
        "spec_transform(testX).shape"
      ],
      "metadata": {
        "colab": {
          "base_uri": "https://localhost:8080/"
        },
        "id": "wmxcM1IItw7X",
        "outputId": "c95f8b42-8335-4cd7-eb0d-f88515102202"
      },
      "execution_count": null,
      "outputs": [
        {
          "output_type": "execute_result",
          "data": {
            "text/plain": [
              "torch.Size([996, 201, 331])"
            ]
          },
          "metadata": {},
          "execution_count": 12
        }
      ]
    },
    {
      "cell_type": "code",
      "source": [
        "#@title Specify dataset class\n",
        "class MiracleDataset(Dataset):\n",
        "  def __init__(self, X:np.ndarray,y:np.ndarray,n_fft=1024,hop_length = 512,sr=22050, loader=None,win_length = None,transform=None, target_transform=None):\n",
        "    self.n_fft = n_fft\n",
        "    self.win_length = win_length\n",
        "    self.hop_length = hop_length\n",
        "    self.sr = sr\n",
        "    self.X =  X\n",
        "    self.labels =  y \n",
        "    self.transform =  transform \n",
        "    self.target_transform =  target_transform\n",
        "    self.loader = loader\n",
        "  \n",
        "  def __len__(self):\n",
        "    return self.X.shape[0]\n",
        "  \n",
        "  def __getitem__(self,idx):\n",
        "    audio =  torch.from_numpy(self.X[idx])\n",
        "    # audio.to(device)\n",
        "    #audio =  self.X[idx].to(device)\n",
        "    label =  self.labels[idx]\n",
        "    #label = torch.from_numpy(label)\n",
        "    #label.to(device)\n",
        "\n",
        "    if self.transform and self.loader == 'train':\n",
        "      self.orig_audio = audio\n",
        "      audio = self.transform(audio)\n",
        "      #Manual pitchshifting \n",
        "      p01 = torch.rand(1)\n",
        "      p02 = torch.rand(1)\n",
        "      if p01 <= 0.4:\n",
        "        audio = PitchShift(sample_rate=self.sr, n_samples=audio.shape[0], pitch_shift_min=4, pitch_shift_max=5)(audio.reshape(1,audio.shape[0]))\n",
        "        #print(f'Shape after Pitching: {audio.shape}')\n",
        "      # if p02 <= 0.3:\n",
        "      #   audio = Reverb(sample_rate=self.sr,reverberance_min=90,reverberance_max=91,room_size_min=90,room_size_max=91,)(audio)\n",
        "      #   print(f'Shape after Reverbing: {audio.shape}')\n",
        "    # define transformation\n",
        "    spectrogram = T.Spectrogram(\n",
        "        n_fft=self.n_fft,\n",
        "        win_length=self.win_length,\n",
        "        hop_length=self.hop_length,\n",
        "        center=True,\n",
        "        pad_mode=\"reflect\",\n",
        "        power=2.0,\n",
        "    )\n",
        "\n",
        "    # Perform transformation\n",
        "    self.modified_audio = audio\n",
        "    \n",
        "    \n",
        "    spec = spectrogram(audio.squeeze())\n",
        "    spec_DB = T.AmplitudeToDB()(spec)\n",
        "\n",
        "    if self.target_transform:\n",
        "        label = self.target_transform(label)\n",
        "    return spec_DB.expand((1, spec_DB.shape[0], spec_DB.shape[1])),label\n",
        "    #return spec_DB,label"
      ],
      "metadata": {
        "id": "kvLeM8qWy88s"
      },
      "execution_count": null,
      "outputs": []
    },
    {
      "cell_type": "code",
      "source": [
        "#@title Specify Dataloaders\n",
        "import gc\n",
        "# Load train dataset\n",
        "X,y,CLASSES = utils.load(train_file)\n",
        "print(X.shape, y.shape, CLASSES.shape)\n",
        "# Train loader\n",
        "ds =  MiracleDataset(X,y, loader='train',transform= Compose( [\n",
        "        RandomApply([PolarityInversion()], p=0.8),\n",
        "        RandomApply([Noise(min_snr=0.3, max_snr=0.5)], p=0.3),\n",
        "        RandomApply([Gain()], p=0.2),\n",
        "        RandomApply([HighLowPass(sample_rate=22050)], p=0.8)\n",
        "    ]) )\n",
        "trainloader =  DataLoader(ds, batch_size= 64, shuffle=True, num_workers=0) \n",
        "del X\n",
        "del y\n",
        "gc.collect()\n",
        "##Load Validattion dataset\n",
        "X,y,CLASSES = utils.load(val_file)\n",
        "\n",
        "ds =  MiracleDataset(X,y)\n",
        "validationloader =  DataLoader(ds, batch_size= 64, shuffle=True, num_workers=0) \n",
        "del X\n",
        "del y\n",
        "gc.collect()\n",
        "## Load Test dataset\n",
        "X,y,CLASSES = utils.load(test_file)\n",
        "\n",
        "ds =  MiracleDataset(X,y)\n",
        "testloader =  DataLoader(ds, batch_size= 64, shuffle=True, num_workers=0)\n",
        "del X\n",
        "del y\n",
        "gc.collect()"
      ],
      "metadata": {
        "id": "W9HvmwV0zDpW",
        "colab": {
          "base_uri": "https://localhost:8080/"
        },
        "outputId": "67bb589a-dc46-47f9-e6b5-94f3336b03fd"
      },
      "execution_count": null,
      "outputs": [
        {
          "output_type": "stream",
          "name": "stdout",
          "text": [
            "(7985, 66150) (7985,) (10,)\n"
          ]
        },
        {
          "output_type": "execute_result",
          "data": {
            "text/plain": [
              "24"
            ]
          },
          "metadata": {},
          "execution_count": 14
        }
      ]
    },
    {
      "cell_type": "code",
      "source": [
        "#@title Test Validation and test loaders\n",
        "\n",
        "samples,labels = next(iter(trainloader)) \n",
        "print(samples.shape)\n",
        "\n",
        "samples,labels = next(iter(testloader)) \n",
        "print(samples.shape)\n",
        "\n",
        "samples,labels = next(iter(validationloader)) \n",
        "print(samples.shape)"
      ],
      "metadata": {
        "id": "zFX8UjYw2QFP",
        "colab": {
          "base_uri": "https://localhost:8080/"
        },
        "outputId": "f9c6a3da-a14e-4442-adc0-192c26110728"
      },
      "execution_count": null,
      "outputs": [
        {
          "output_type": "stream",
          "name": "stdout",
          "text": [
            "torch.Size([64, 1, 513, 130])\n",
            "torch.Size([64, 1, 513, 130])\n",
            "torch.Size([64, 1, 513, 130])\n"
          ]
        }
      ]
    },
    {
      "cell_type": "markdown",
      "metadata": {
        "execution": {},
        "id": "6IpLuh8frv-b"
      },
      "source": [
        "## Train a simple CNN "
      ]
    },
    {
      "cell_type": "code",
      "execution_count": null,
      "metadata": {
        "execution": {},
        "id": "cdV6RuO8rv-d"
      },
      "outputs": [],
      "source": [
        "# Make a CNN & train it to predict genres.\n",
        "\n",
        "class music_net(nn.Module):\n",
        "  def __init__(self):\n",
        "    \"\"\"Intitalize neural net layers\"\"\"\n",
        "    super(music_net, self).__init__()\n",
        "    self.conv1 = nn.Conv2d(in_channels=1, out_channels=8, kernel_size=3, stride=1, padding=0)\n",
        "    self.conv2 = nn.Conv2d(in_channels=8, out_channels=16, kernel_size=3, stride=1, padding=0)\n",
        "    self.conv3 = nn.Conv2d(in_channels=16, out_channels=32, kernel_size=3, stride=1, padding=0)\n",
        "    self.conv4 = nn.Conv2d(in_channels=32, out_channels=64, kernel_size=3, stride=1, padding=0)\n",
        "    self.conv5 = nn.Conv2d(in_channels=64, out_channels=128, kernel_size=3, stride=1, padding=0)\n",
        "    self.fc1 = nn.Linear(in_features=3584, out_features=10)\n",
        "\n",
        "    self.batchnorm1 = nn.BatchNorm2d(num_features=8)\n",
        "    self.batchnorm2 = nn.BatchNorm2d(num_features=16)\n",
        "    self.batchnorm3 = nn.BatchNorm2d(num_features=32)\n",
        "    self.batchnorm4 = nn.BatchNorm2d(num_features=64)\n",
        "    self.batchnorm5 = nn.BatchNorm2d(num_features=128)\n",
        "\n",
        "    self.dropout = nn.Dropout(p=0.3, inplace=False)\n",
        "\n",
        "\n",
        "  def forward(self, x):\n",
        "    # Conv layer 1.\n",
        "    x = self.conv1(x)\n",
        "    x = self.batchnorm1(x)\n",
        "    x = F.relu(x)\n",
        "    x = F.max_pool2d(x, kernel_size=2)\n",
        "\n",
        "    # Conv layer 2.\n",
        "    x = self.conv2(x)\n",
        "    x = self.batchnorm2(x)\n",
        "    x = F.relu(x)\n",
        "    x = F.max_pool2d(x, kernel_size=2)\n",
        "\n",
        "    # Conv layer 3.\n",
        "    x = self.conv3(x)\n",
        "    x = self.batchnorm3(x)\n",
        "    x = F.relu(x)\n",
        "    x = F.max_pool2d(x, kernel_size=2)\n",
        "\n",
        "    # Conv layer 4.\n",
        "    x = self.conv4(x)\n",
        "    x = self.batchnorm4(x)\n",
        "    x = F.relu(x)\n",
        "    x = F.max_pool2d(x, kernel_size=2)\n",
        "\n",
        "    # Conv layer 5.\n",
        "    x = self.conv5(x)\n",
        "    x = self.batchnorm5(x)\n",
        "    x = F.relu(x)\n",
        "    x = F.max_pool2d(x, kernel_size=2)\n",
        "\n",
        "    # Fully connected layer 1.\n",
        "    x = torch.flatten(x, 1)\n",
        "    x = self.dropout(x)\n",
        "    x = self.fc1(x)\n",
        "    x = F.softmax(x)\n",
        "\n",
        "    return x\n",
        "\n",
        "\n",
        "def train(model, device, train_loader, validation_loader, epochs):\n",
        "  criterion =  nn.CrossEntropyLoss()\n",
        "  optimizer = torch.optim.Adam(model.parameters(), lr=0.0005)\n",
        "  train_loss, validation_loss = [], []\n",
        "  train_acc, validation_acc = [], []\n",
        "  with tqdm(range(epochs), unit='epoch') as tepochs:\n",
        "    tepochs.set_description('Training')\n",
        "    for epoch in tepochs:\n",
        "      model.train()\n",
        "      # keep track of the running loss\n",
        "      running_loss = 0.\n",
        "      correct, total = 0, 0\n",
        "\n",
        "      for data, target in train_loader:\n",
        "        # getting the training set\n",
        "        data, target = data.to(device), target.to(device)\n",
        "        # Get the model output (call the model with the data from this batch)\n",
        "        output = model(data)\n",
        "        # Zero the gradients out)\n",
        "        optimizer.zero_grad()\n",
        "        # Get the Loss\n",
        "        loss  = criterion(output, target)\n",
        "        # Calculate the gradients\n",
        "        loss.backward()\n",
        "        # Update the weights (using the training step of the optimizer)\n",
        "        optimizer.step()\n",
        "\n",
        "        tepochs.set_postfix(loss=loss.item())\n",
        "        running_loss += loss  # add the loss for this batch\n",
        "\n",
        "        # get accuracy\n",
        "        _, predicted = torch.max(output, 1)\n",
        "        total += target.size(0)\n",
        "        correct += (predicted == target).sum().item()\n",
        "\n",
        "      # append the loss for this epoch\n",
        "      train_loss.append(running_loss/len(train_loader))\n",
        "      train_acc.append(correct/total)\n",
        "\n",
        "      # evaluate on validation data\n",
        "      model.eval()\n",
        "      running_loss = 0.\n",
        "      correct, total = 0, 0\n",
        "\n",
        "      for data, target in validation_loader:\n",
        "        # getting the validation set\n",
        "        data, target = data.to(device), target.to(device)\n",
        "        optimizer.zero_grad()\n",
        "        output = model(data)\n",
        "        loss = criterion(output, target)\n",
        "        tepochs.set_postfix(loss=loss.item())\n",
        "        running_loss += loss.item()\n",
        "        # get accuracy\n",
        "        _, predicted = torch.max(output, 1)\n",
        "        total += target.size(0)\n",
        "        correct += (predicted == target).sum().item()\n",
        "\n",
        "      validation_loss.append(running_loss/len(validation_loader))\n",
        "      validation_acc.append(correct/total)\n",
        "\n",
        "  model_dir = \"/content/drive/MyDrive/NMA/models\"\n",
        "  Path(model_dir).mkdir(parents=True, exist_ok=True)\n",
        "  name = 'model' + tr(epoch) + 'ep.pt'\n",
        "\n",
        "  torch.save({\n",
        "              'epoch': epoch,\n",
        "              'model_state_dict': net.state_dict(),\n",
        "              'optimizer_state_dict': optimizer.state_dict(),\n",
        "              'loss': train_loss,\n",
        "              }, Path(model_dir, name))\n",
        "\n",
        "  return train_loss, train_acc, validation_loss, validation_acc"
      ]
    },
    {
      "cell_type": "code",
      "source": [
        "!nvidia-smi\n",
        "print(device)"
      ],
      "metadata": {
        "id": "H7Fv04XQxljr",
        "colab": {
          "base_uri": "https://localhost:8080/"
        },
        "outputId": "ac0f6993-2c6a-4fdb-aacd-8b5282d3bcf5"
      },
      "execution_count": null,
      "outputs": [
        {
          "output_type": "stream",
          "name": "stdout",
          "text": [
            "NVIDIA-SMI has failed because it couldn't communicate with the NVIDIA driver. Make sure that the latest NVIDIA driver is installed and running.\n",
            "\n",
            "cpu\n"
          ]
        }
      ]
    },
    {
      "cell_type": "code",
      "source": [
        "from IPython.display import Audio\n",
        "\n",
        "sample_path = '/content/drive/MyDrive/NMA/Data/train/reggae/reggae.00001.wav'\n",
        "audio, sr = torchaudio.load(sample_path)"
      ],
      "metadata": {
        "id": "Q5x1FS7t5gw7"
      },
      "execution_count": null,
      "outputs": []
    },
    {
      "cell_type": "code",
      "source": [
        "%time\n",
        "%prun\n",
        "\n",
        "spectrogram = T.Spectrogram(\n",
        "    n_fft=1024,\n",
        "    win_length=None,\n",
        "    hop_length=512,\n",
        "    center=True,\n",
        "    pad_mode=\"reflect\",\n",
        "    power=2.0,\n",
        ")\n",
        "\n",
        "spec = spectrogram(audio)  \n",
        "spec_DB = T.AmplitudeToDB()(spec)"
      ],
      "metadata": {
        "colab": {
          "base_uri": "https://localhost:8080/"
        },
        "id": "7Pvthvld4r5N",
        "outputId": "4d307b71-5494-4cd4-dec8-ac6d9d172382"
      },
      "execution_count": null,
      "outputs": [
        {
          "output_type": "stream",
          "name": "stdout",
          "text": [
            "CPU times: user 2 µs, sys: 0 ns, total: 2 µs\n",
            "Wall time: 5.25 µs\n",
            " "
          ]
        }
      ]
    },
    {
      "cell_type": "code",
      "source": [
        "%time\n",
        "%prun\n",
        "\n",
        "\n",
        "transform= Compose( [\n",
        "        RandomApply([PolarityInversion()], p=0.8),\n",
        "        RandomApply([Noise(min_snr=0.3, max_snr=0.5)], p=0.3),\n",
        "        RandomApply([Gain()], p=0.2),\n",
        "        RandomApply([HighLowPass(sample_rate=22050)], p=0.8)\n",
        "    ])\n",
        "\n",
        "audio = transform(audio)"
      ],
      "metadata": {
        "colab": {
          "base_uri": "https://localhost:8080/"
        },
        "id": "eouAn8oz6WGA",
        "outputId": "7404ea01-6fa8-4bc1-c9d7-f80807018a60"
      },
      "execution_count": null,
      "outputs": [
        {
          "output_type": "stream",
          "name": "stdout",
          "text": [
            "CPU times: user 2 µs, sys: 1 µs, total: 3 µs\n",
            "Wall time: 6.91 µs\n",
            " "
          ]
        }
      ]
    },
    {
      "cell_type": "code",
      "source": [
        "%time\n",
        "%prun\n",
        "\n",
        "audio = PitchShift(sample_rate=sr, n_samples=audio.shape[0], pitch_shift_min=4, pitch_shift_max=5)(audio)"
      ],
      "metadata": {
        "colab": {
          "base_uri": "https://localhost:8080/"
        },
        "id": "Vt6V8RWZ6yrr",
        "outputId": "677d4e0b-e231-46a2-b953-45b3a1f6fd7f"
      },
      "execution_count": null,
      "outputs": [
        {
          "output_type": "stream",
          "name": "stdout",
          "text": [
            "CPU times: user 2 µs, sys: 1e+03 ns, total: 3 µs\n",
            "Wall time: 6.44 µs\n",
            " "
          ]
        }
      ]
    },
    {
      "cell_type": "code",
      "execution_count": null,
      "metadata": {
        "execution": {},
        "id": "1x59DP-Qrv-e",
        "colab": {
          "base_uri": "https://localhost:8080/",
          "height": 85,
          "referenced_widgets": [
            "e6804fb3f3e24903962b9c09fba3f61e",
            "bbb01962ed5a45a2a737f0d2900dfc90",
            "0fb2e0eeb9d64cb1ae6a82829f09444b",
            "83bf2cc0adcc448b9bdf1679b9e01347",
            "d6ae6189f870462092541f4c9b6720a1",
            "c4d55062fbc04afb81224c07492fe431",
            "518ebaa6131f42af8201445c4037cf79",
            "a8ff68c9edbf40878a098b52e97d9794",
            "8d4fd39743cc40abac978b5da18e555e",
            "777803e03062437795bd26f7f3b386ed",
            "67c8d9cf9e104e49a2ec8f39d0827c20"
          ]
        },
        "outputId": "a181c42e-c900-418d-ec47-eb2eee0eb392"
      },
      "outputs": [
        {
          "output_type": "stream",
          "name": "stdout",
          "text": [
            " "
          ]
        },
        {
          "output_type": "display_data",
          "data": {
            "text/plain": [
              "  0%|          | 0/20 [00:00<?, ?epoch/s]"
            ],
            "application/vnd.jupyter.widget-view+json": {
              "version_major": 2,
              "version_minor": 0,
              "model_id": "e6804fb3f3e24903962b9c09fba3f61e"
            }
          },
          "metadata": {}
        },
        {
          "output_type": "stream",
          "name": "stderr",
          "text": [
            "/usr/local/lib/python3.7/dist-packages/ipykernel_launcher.py:58: UserWarning: Implicit dimension choice for softmax has been deprecated. Change the call to include dim=X as an argument.\n"
          ]
        }
      ],
      "source": [
        "# Run training.\n",
        "%prun\n",
        "net = music_net().to(device)\n",
        "train_loss, train_acc, validation_loss, validation_acc = train(net, device, trainloader, validationloader, 20)"
      ]
    },
    {
      "cell_type": "code",
      "source": [
        "train_loss\n",
        "_train_loss, _train_acc, _validation_loss, _validation_acc = [], [], [], []\n",
        "for loss, acc, val_loss, val_acc in zip(train_loss, train_acc, validation_loss, validation_acc):\n",
        "  _train_loss.append(loss.to(\"cpu\").detach().numpy())\n",
        "  _train_acc.append(acc)\n",
        "  _validation_loss.append(val_loss)\n",
        "  _validation_acc.append(val_acc)\n",
        "plot_loss_accuracy(_train_loss, _train_acc, _validation_loss, _validation_acc)\n",
        "\n",
        "import pandas as pd\n",
        "\n",
        "df = pd.DataFrame({'val_loss': _validation_loss, 'train_loss': _train_loss , 'train_acc': _train_acc, 'val_acc': _validation_acc})\n",
        "df.to_csv('/content/drive/MyDrive/NMA/Data/Stats/Stats.csv')"
      ],
      "metadata": {
        "id": "MputM8KDH-Tf"
      },
      "execution_count": null,
      "outputs": []
    },
    {
      "cell_type": "markdown",
      "source": [
        "### Saving and Loading models"
      ],
      "metadata": {
        "id": "jUdgRv0Tz2TN"
      }
    },
    {
      "cell_type": "code",
      "source": [
        "# Saving\n",
        "model_dir = \"/content/drive/MyDrive/NMA/models\"\n",
        "Path(model_dir).mkdir(parents=True, exist_ok=True)\n",
        "\n",
        "optimizer = torch.optim.Adam(net.parameters(), lr=0.0005)\n",
        "torch.save({\n",
        "            'epoch': 20,\n",
        "            'model_state_dict': net.state_dict(),\n",
        "            'optimizer_state_dict': optimizer.state_dict(),\n",
        "            'loss': train_loss,\n",
        "            }, Path(model_dir, \"model_augmented_20.pt\"))\n"
      ],
      "metadata": {
        "id": "bgBg0BYaya0y"
      },
      "execution_count": null,
      "outputs": []
    },
    {
      "cell_type": "code",
      "source": [
        "@torch.no_grad()\n",
        "\n",
        "def get_all_preds(model, loader, device):\n",
        "    model.eval()\n",
        "    all_preds = torch.tensor([]).to(device)\n",
        "    all_labels = torch.tensor([]).to(device)\n",
        "    for batch in loader:\n",
        "        images, labels = batch\n",
        "        images, labels = images.to(device), labels.to(device)\n",
        "        preds = model(images)\n",
        "        all_preds = torch.cat(\n",
        "            (all_preds, preds)\n",
        "            ,dim=0\n",
        "        )\n",
        "        all_labels = torch.cat(\n",
        "            (all_labels, labels)\n",
        "             ,dim=0)\n",
        "        \n",
        "    return all_preds, all_labels"
      ],
      "metadata": {
        "id": "9CIE6j-L2SK8"
      },
      "execution_count": null,
      "outputs": []
    },
    {
      "cell_type": "code",
      "source": [
        "#Loading\n",
        "model_dir = \"/content/drive/MyDrive/NMA/models\"\n",
        "\n",
        "net = music_net().to(device)\n",
        "optimizer = torch.optim.Adam(net.parameters(), lr=0.0005)\n",
        "\n",
        "checkpoint = torch.load(Path(model_dir, \"model_augmented_20.pt\"))\n",
        "net.load_state_dict(checkpoint['model_state_dict'])\n",
        "optimizer.load_state_dict(checkpoint['optimizer_state_dict'])\n",
        "epoch = checkpoint['epoch']\n",
        "loss = checkpoint['loss']\n",
        "\n",
        "prob_class, true_labels = get_all_preds(net, testloader, device)"
      ],
      "metadata": {
        "id": "DHEYHlwYIEt4",
        "colab": {
          "base_uri": "https://localhost:8080/"
        },
        "outputId": "5732fa0a-394f-43bf-8cd4-b27bf0dc4135"
      },
      "execution_count": null,
      "outputs": [
        {
          "output_type": "stream",
          "name": "stderr",
          "text": [
            "/usr/local/lib/python3.7/dist-packages/ipykernel_launcher.py:58: UserWarning: Implicit dimension choice for softmax has been deprecated. Change the call to include dim=X as an argument.\n"
          ]
        }
      ]
    },
    {
      "cell_type": "code",
      "source": [
        "import sklearn.metrics as metrics\n",
        "import seaborn as sns\n",
        "import pandas as pd\n",
        "print(prob_class.shape)\n",
        "pred_class = torch.argmax(prob_class, dim=1)\n",
        "print(pred_class.shape)\n",
        "\n",
        "print(true_labels.shape)\n",
        "\n",
        "conf_mat = metrics.confusion_matrix(true_labels.to('cpu').detach().numpy(), pred_class.to('cpu').detach().numpy())"
      ],
      "metadata": {
        "colab": {
          "base_uri": "https://localhost:8080/"
        },
        "id": "6_fQKl8nzsFU",
        "outputId": "ca78b703-8494-44a9-cfa5-d7668cac7c4a"
      },
      "execution_count": null,
      "outputs": [
        {
          "output_type": "stream",
          "name": "stdout",
          "text": [
            "torch.Size([7985, 10])\n",
            "torch.Size([7985])\n",
            "torch.Size([7985])\n"
          ]
        }
      ]
    },
    {
      "cell_type": "code",
      "source": [
        "conf_mat_norm = conf_mat / conf_mat.sum(axis=1)\n",
        "df_cm = pd.DataFrame(conf_mat_norm, index = [i for i in CLASSES],\n",
        "                  columns = [i for i in CLASSES])\n",
        "plt.figure(figsize = (10,7))\n",
        "sns.heatmap(df_cm, annot=True)"
      ],
      "metadata": {
        "colab": {
          "base_uri": "https://localhost:8080/",
          "height": 445
        },
        "id": "XH_QBAud_vZm",
        "outputId": "a60b1b80-6681-4519-d43d-3ed1d5be6f8a"
      },
      "execution_count": null,
      "outputs": [
        {
          "output_type": "execute_result",
          "data": {
            "text/plain": [
              "<matplotlib.axes._subplots.AxesSubplot at 0x7f398753ef50>"
            ]
          },
          "metadata": {},
          "execution_count": 71
        },
        {
          "output_type": "display_data",
          "data": {
            "text/plain": [
              "<Figure size 720x504 with 2 Axes>"
            ],
            "image/png": "[encoded data removed]"
          },
          "metadata": {
            "needs_background": "light"
          }
        }
      ]
    },
    {
      "cell_type": "code",
      "source": [
        "report = metrics.classification_report(true_labels.to('cpu').detach().numpy(), pred_class.to('cpu').detach().numpy(),target_names=CLASSES)\n",
        "print(report)"
      ],
      "metadata": {
        "colab": {
          "base_uri": "https://localhost:8080/"
        },
        "id": "0wFrUt9X-Gur",
        "outputId": "1539a8d4-3d2f-4e74-b618-0d4181ec9a63"
      },
      "execution_count": null,
      "outputs": [
        {
          "output_type": "stream",
          "name": "stdout",
          "text": [
            "              precision    recall  f1-score   support\n",
            "\n",
            "       blues       0.68      0.65      0.67       800\n",
            "   classical       0.84      0.89      0.87       799\n",
            "     country       0.56      0.75      0.64       799\n",
            "       disco       0.62      0.73      0.67       800\n",
            "      hiphop       0.70      0.84      0.76       798\n",
            "        jazz       0.86      0.65      0.74       790\n",
            "       metal       0.69      0.89      0.78       800\n",
            "         pop       0.63      0.45      0.53       800\n",
            "      reggae       0.86      0.65      0.74       800\n",
            "        rock       0.55      0.42      0.47       799\n",
            "\n",
            "    accuracy                           0.69      7985\n",
            "   macro avg       0.70      0.69      0.69      7985\n",
            "weighted avg       0.70      0.69      0.69      7985\n",
            "\n"
          ]
        }
      ]
    }
  ],
  "metadata": {
    "accelerator": "GPU",
    "colab": {
      "collapsed_sections": [],
      "name": "train_model_plus_eval",
      "provenance": [],
      "include_colab_link": true
    },
    "kernel": {
      "display_name": "Python 3",
      "language": "python",
      "name": "python3"
    },
    "kernelspec": {
      "display_name": "Python 3",
      "name": "python3"
    },
    "language_info": {
      "name": "python"
    },
    "gpuClass": "standard",
    "widgets": {
      "application/vnd.jupyter.widget-state+json": {
        "e6804fb3f3e24903962b9c09fba3f61e": {
          "model_module": "@jupyter-widgets/controls",
          "model_name": "HBoxModel",
          "model_module_version": "1.5.0",
          "state": {
            "_dom_classes": [],
            "_model_module": "@jupyter-widgets/controls",
            "_model_module_version": "1.5.0",
            "_model_name": "HBoxModel",
            "_view_count": null,
            "_view_module": "@jupyter-widgets/controls",
            "_view_module_version": "1.5.0",
            "_view_name": "HBoxView",
            "box_style": "",
            "children": [
              "IPY_MODEL_bbb01962ed5a45a2a737f0d2900dfc90",
              "IPY_MODEL_0fb2e0eeb9d64cb1ae6a82829f09444b",
              "IPY_MODEL_83bf2cc0adcc448b9bdf1679b9e01347"
            ],
            "layout": "IPY_MODEL_d6ae6189f870462092541f4c9b6720a1"
          }
        },
        "bbb01962ed5a45a2a737f0d2900dfc90": {
          "model_module": "@jupyter-widgets/controls",
          "model_name": "HTMLModel",
          "model_module_version": "1.5.0",
          "state": {
            "_dom_classes": [],
            "_model_module": "@jupyter-widgets/controls",
            "_model_module_version": "1.5.0",
            "_model_name": "HTMLModel",
            "_view_count": null,
            "_view_module": "@jupyter-widgets/controls",
            "_view_module_version": "1.5.0",
            "_view_name": "HTMLView",
            "description": "",
            "description_tooltip": null,
            "layout": "IPY_MODEL_c4d55062fbc04afb81224c07492fe431",
            "placeholder": "​",
            "style": "IPY_MODEL_518ebaa6131f42af8201445c4037cf79",
            "value": "Training:   0%"
          }
        },
        "0fb2e0eeb9d64cb1ae6a82829f09444b": {
          "model_module": "@jupyter-widgets/controls",
          "model_name": "FloatProgressModel",
          "model_module_version": "1.5.0",
          "state": {
            "_dom_classes": [],
            "_model_module": "@jupyter-widgets/controls",
            "_model_module_version": "1.5.0",
            "_model_name": "FloatProgressModel",
            "_view_count": null,
            "_view_module": "@jupyter-widgets/controls",
            "_view_module_version": "1.5.0",
            "_view_name": "ProgressView",
            "bar_style": "",
            "description": "",
            "description_tooltip": null,
            "layout": "IPY_MODEL_a8ff68c9edbf40878a098b52e97d9794",
            "max": 20,
            "min": 0,
            "orientation": "horizontal",
            "style": "IPY_MODEL_8d4fd39743cc40abac978b5da18e555e",
            "value": 0
          }
        },
        "83bf2cc0adcc448b9bdf1679b9e01347": {
          "model_module": "@jupyter-widgets/controls",
          "model_name": "HTMLModel",
          "model_module_version": "1.5.0",
          "state": {
            "_dom_classes": [],
            "_model_module": "@jupyter-widgets/controls",
            "_model_module_version": "1.5.0",
            "_model_name": "HTMLModel",
            "_view_count": null,
            "_view_module": "@jupyter-widgets/controls",
            "_view_module_version": "1.5.0",
            "_view_name": "HTMLView",
            "description": "",
            "description_tooltip": null,
            "layout": "IPY_MODEL_777803e03062437795bd26f7f3b386ed",
            "placeholder": "​",
            "style": "IPY_MODEL_67c8d9cf9e104e49a2ec8f39d0827c20",
            "value": " 0/20 [00:18&lt;?, ?epoch/s, loss=2.27]"
          }
        },
        "d6ae6189f870462092541f4c9b6720a1": {
          "model_module": "@jupyter-widgets/base",
          "model_name": "LayoutModel",
          "model_module_version": "1.2.0",
          "state": {
            "_model_module": "@jupyter-widgets/base",
            "_model_module_version": "1.2.0",
            "_model_name": "LayoutModel",
            "_view_count": null,
            "_view_module": "@jupyter-widgets/base",
            "_view_module_version": "1.2.0",
            "_view_name": "LayoutView",
            "align_content": null,
            "align_items": null,
            "align_self": null,
            "border": null,
            "bottom": null,
            "display": null,
            "flex": null,
            "flex_flow": null,
            "grid_area": null,
            "grid_auto_columns": null,
            "grid_auto_flow": null,
            "grid_auto_rows": null,
            "grid_column": null,
            "grid_gap": null,
            "grid_row": null,
            "grid_template_areas": null,
            "grid_template_columns": null,
            "grid_template_rows": null,
            "height": null,
            "justify_content": null,
            "justify_items": null,
            "left": null,
            "margin": null,
            "max_height": null,
            "max_width": null,
            "min_height": null,
            "min_width": null,
            "object_fit": null,
            "object_position": null,
            "order": null,
            "overflow": null,
            "overflow_x": null,
            "overflow_y": null,
            "padding": null,
            "right": null,
            "top": null,
            "visibility": null,
            "width": null
          }
        },
        "c4d55062fbc04afb81224c07492fe431": {
          "model_module": "@jupyter-widgets/base",
          "model_name": "LayoutModel",
          "model_module_version": "1.2.0",
          "state": {
            "_model_module": "@jupyter-widgets/base",
            "_model_module_version": "1.2.0",
            "_model_name": "LayoutModel",
            "_view_count": null,
            "_view_module": "@jupyter-widgets/base",
            "_view_module_version": "1.2.0",
            "_view_name": "LayoutView",
            "align_content": null,
            "align_items": null,
            "align_self": null,
            "border": null,
            "bottom": null,
            "display": null,
            "flex": null,
            "flex_flow": null,
            "grid_area": null,
            "grid_auto_columns": null,
            "grid_auto_flow": null,
            "grid_auto_rows": null,
            "grid_column": null,
            "grid_gap": null,
            "grid_row": null,
            "grid_template_areas": null,
            "grid_template_columns": null,
            "grid_template_rows": null,
            "height": null,
            "justify_content": null,
            "justify_items": null,
            "left": null,
            "margin": null,
            "max_height": null,
            "max_width": null,
            "min_height": null,
            "min_width": null,
            "object_fit": null,
            "object_position": null,
            "order": null,
            "overflow": null,
            "overflow_x": null,
            "overflow_y": null,
            "padding": null,
            "right": null,
            "top": null,
            "visibility": null,
            "width": null
          }
        },
        "518ebaa6131f42af8201445c4037cf79": {
          "model_module": "@jupyter-widgets/controls",
          "model_name": "DescriptionStyleModel",
          "model_module_version": "1.5.0",
          "state": {
            "_model_module": "@jupyter-widgets/controls",
            "_model_module_version": "1.5.0",
            "_model_name": "DescriptionStyleModel",
            "_view_count": null,
            "_view_module": "@jupyter-widgets/base",
            "_view_module_version": "1.2.0",
            "_view_name": "StyleView",
            "description_width": ""
          }
        },
        "a8ff68c9edbf40878a098b52e97d9794": {
          "model_module": "@jupyter-widgets/base",
          "model_name": "LayoutModel",
          "model_module_version": "1.2.0",
          "state": {
            "_model_module": "@jupyter-widgets/base",
            "_model_module_version": "1.2.0",
            "_model_name": "LayoutModel",
            "_view_count": null,
            "_view_module": "@jupyter-widgets/base",
            "_view_module_version": "1.2.0",
            "_view_name": "LayoutView",
            "align_content": null,
            "align_items": null,
            "align_self": null,
            "border": null,
            "bottom": null,
            "display": null,
            "flex": null,
            "flex_flow": null,
            "grid_area": null,
            "grid_auto_columns": null,
            "grid_auto_flow": null,
            "grid_auto_rows": null,
            "grid_column": null,
            "grid_gap": null,
            "grid_row": null,
            "grid_template_areas": null,
            "grid_template_columns": null,
            "grid_template_rows": null,
            "height": null,
            "justify_content": null,
            "justify_items": null,
            "left": null,
            "margin": null,
            "max_height": null,
            "max_width": null,
            "min_height": null,
            "min_width": null,
            "object_fit": null,
            "object_position": null,
            "order": null,
            "overflow": null,
            "overflow_x": null,
            "overflow_y": null,
            "padding": null,
            "right": null,
            "top": null,
            "visibility": null,
            "width": null
          }
        },
        "8d4fd39743cc40abac978b5da18e555e": {
          "model_module": "@jupyter-widgets/controls",
          "model_name": "ProgressStyleModel",
          "model_module_version": "1.5.0",
          "state": {
            "_model_module": "@jupyter-widgets/controls",
            "_model_module_version": "1.5.0",
            "_model_name": "ProgressStyleModel",
            "_view_count": null,
            "_view_module": "@jupyter-widgets/base",
            "_view_module_version": "1.2.0",
            "_view_name": "StyleView",
            "bar_color": null,
            "description_width": ""
          }
        },
        "777803e03062437795bd26f7f3b386ed": {
          "model_module": "@jupyter-widgets/base",
          "model_name": "LayoutModel",
          "model_module_version": "1.2.0",
          "state": {
            "_model_module": "@jupyter-widgets/base",
            "_model_module_version": "1.2.0",
            "_model_name": "LayoutModel",
            "_view_count": null,
            "_view_module": "@jupyter-widgets/base",
            "_view_module_version": "1.2.0",
            "_view_name": "LayoutView",
            "align_content": null,
            "align_items": null,
            "align_self": null,
            "border": null,
            "bottom": null,
            "display": null,
            "flex": null,
            "flex_flow": null,
            "grid_area": null,
            "grid_auto_columns": null,
            "grid_auto_flow": null,
            "grid_auto_rows": null,
            "grid_column": null,
            "grid_gap": null,
            "grid_row": null,
            "grid_template_areas": null,
            "grid_template_columns": null,
            "grid_template_rows": null,
            "height": null,
            "justify_content": null,
            "justify_items": null,
            "left": null,
            "margin": null,
            "max_height": null,
            "max_width": null,
            "min_height": null,
            "min_width": null,
            "object_fit": null,
            "object_position": null,
            "order": null,
            "overflow": null,
            "overflow_x": null,
            "overflow_y": null,
            "padding": null,
            "right": null,
            "top": null,
            "visibility": null,
            "width": null
          }
        },
        "67c8d9cf9e104e49a2ec8f39d0827c20": {
          "model_module": "@jupyter-widgets/controls",
          "model_name": "DescriptionStyleModel",
          "model_module_version": "1.5.0",
          "state": {
            "_model_module": "@jupyter-widgets/controls",
            "_model_module_version": "1.5.0",
            "_model_name": "DescriptionStyleModel",
            "_view_count": null,
            "_view_module": "@jupyter-widgets/base",
            "_view_module_version": "1.2.0",
            "_view_name": "StyleView",
            "description_width": ""
          }
        }
      }
    }
  },
  "nbformat": 4,
  "nbformat_minor": 0
}